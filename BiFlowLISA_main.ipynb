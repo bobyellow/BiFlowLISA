{
 "cells": [
  {
   "cell_type": "markdown",
   "id": "833b0414",
   "metadata": {},
   "source": [
    "# BiFlowLISA Main Notebook\n",
    "This notebook runs the bivariate flow LISA analysis using `execBIFLOWLISA`."
   ]
  },
  {
   "cell_type": "code",
   "execution_count": null,
   "id": "52967900",
   "metadata": {},
   "outputs": [],
   "source": [
    "# If using Colab, uncomment and run:\n",
    "# !pip install numpy pyshp pandas\n",
    "\n",
    "import numpy as np\n",
    "import pandas as pd\n",
    "import shapefile\n",
    "import random\n",
    "from core.getFlowNeighbors import getFlowNeighborsContiguity\n",
    "from core.spatstats import calculateBivariteMoranI\n",
    "from core.FlowLISA import execBIFLOWLISA\n"
   ]
  },
  {
   "cell_type": "code",
   "execution_count": null,
   "id": "142c90e4",
   "metadata": {},
   "outputs": [],
   "source": [
    "# Load flow data\n",
    "flowdf1 = pd.read_csv('input/Flow37xLL.txt', sep='\\s+')\n",
    "flowdf2 = pd.read_csv('input/Flow37yMM.txt', sep='\\s+')\n",
    "\n",
    "# Build bivariate FlowValue\n",
    "FlowValue = {}\n",
    "for (o,d), v1 in zip(zip(flowdf1['O'], flowdf1['D']), flowdf1['Flow']):\n",
    "    FlowValue[(o,d)] = [v1, None]\n",
    "for (o,d), v2 in zip(zip(flowdf2['O'], flowdf2['D']), flowdf2['Flow']):\n",
    "    if (o,d) in FlowValue:\n",
    "        FlowValue[(o,d)][1] = v2\n",
    "    else:\n",
    "        FlowValue[(o,d)] = [None, v2]\n",
    "\n",
    "print(f'Loaded {len(FlowValue)} flow pairs')"
   ]
  },
  {
   "cell_type": "code",
   "execution_count": null,
   "id": "d7229fce",
   "metadata": {},
   "outputs": [],
   "source": [
    "# Read origin/destination shapefiles\n",
    "sf1 = shapefile.Reader('input/Hex37_O.shp')\n",
    "sf2 = shapefile.Reader('input/Hex37_D.shp')\n",
    "shapes1 = sf1.shapes()\n",
    "shapes2 = sf2.shapes()\n",
    "\n",
    "# Prepare AREAS lists\n",
    "AREAS1 = [[geom.points] for geom in shapes1]\n",
    "AREAS2 = [[geom.points] for geom in shapes2]\n"
   ]
  },
  {
   "cell_type": "code",
   "execution_count": null,
   "id": "135d08e2",
   "metadata": {},
   "outputs": [],
   "source": [
    "# Run the BiFlowLISA analysis\n",
    "output = execBIFLOWLISA(AREAS1, AREAS2, FlowValue, NeiLvl=120)\n",
    "print(output)"
   ]
  },
  {
   "cell_type": "code",
   "execution_count": null,
   "id": "dcf69861",
   "metadata": {},
   "outputs": [],
   "source": [
    "# Save results to file\n",
    "import os\n",
    "os.makedirs('result', exist_ok=True)\n",
    "with open('result/BiFlowLISA_output.txt', 'w') as f:\n",
    "    f.write(output)\n",
    "print('Results saved to result/BiFlowLISA_output.txt')"
   ]
  }
 ],
 "metadata": {},
 "nbformat": 4,
 "nbformat_minor": 5
}
