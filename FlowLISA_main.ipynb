{
  "cells": [
    {
      "cell_type": "code",
      "source": [
        "# ─── Colab Bootstrap (updated) ─────────────────────────────────────────────\n",
        "import sys, os\n",
        "\n",
        "if 'google.colab' in sys.modules:\n",
        "    # 1. Download your repo as a ZIP\n",
        "    !wget -q https://github.com/bobyellow/FlowLISA/archive/refs/heads/main.zip -O FlowLISA.zip\n",
        "    # 2. Unzip it\n",
        "    !unzip -q FlowLISA.zip\n",
        "    # 3. Change into the extracted folder\n",
        "    %cd FlowLISA-main\n",
        "\n",
        "# 4. Ensure Python sees local modules\n",
        "sys.path.insert(0, '.')\n",
        "\n",
        "# Sanity check\n",
        "print(\"Working dir:\", os.getcwd())\n",
        "print(\"Contents:\", os.listdir('.'))\n",
        "print(\"core/ present?\", os.path.isdir('core'))\n"
      ],
      "metadata": {
        "id": "AHLMyexx4hlc",
        "outputId": "fab3ce89-d8e6-4743-a0af-84ec1eac0f47",
        "colab": {
          "base_uri": "https://localhost:8080/"
        }
      },
      "id": "AHLMyexx4hlc",
      "execution_count": 2,
      "outputs": [
        {
          "output_type": "stream",
          "name": "stdout",
          "text": [
            "/content/FlowLISA-main\n",
            "Working dir: /content/FlowLISA-main\n",
            "Contents: ['FlowLISA_main.py', 'core', 'input', 'FlowLISA_main.ipynb', '__pycache__', 'result', 'LICENSE', 'README.md']\n",
            "core/ present? True\n"
          ]
        }
      ]
    },
    {
      "cell_type": "code",
      "execution_count": 3,
      "id": "27998f93",
      "metadata": {
        "id": "27998f93",
        "outputId": "401a2b8a-bda4-4b9d-e8d7-a2af9a83fdb3",
        "colab": {
          "base_uri": "https://localhost:8080/"
        }
      },
      "outputs": [
        {
          "output_type": "stream",
          "name": "stdout",
          "text": [
            "Obtain O & D neighbors by contiguity (Rook or Queen)\n",
            "Processing complete. Results saved to result/FlowLISA_I_Fake37xLL_Nei120_0002.txt\n"
          ]
        }
      ],
      "source": [
        "import core.shapefile\n",
        "import pandas as pd\n",
        "from collections import defaultdict\n",
        "from core.FlowLISA import execFLOWLISA\n",
        "\n",
        "# Import input flow data from .txt files\n",
        "flowdf1 = pd.read_csv('input/Flow37xLL.txt', sep='\\s+')\n",
        "F_dt1 = dict(zip(zip(flowdf1['O'], flowdf1['D']), flowdf1['Flow']))\n",
        "\n",
        "# The input flow data should not contain zero-value flow (OD pair)\n",
        "# The input flow data are stored as dictionary format, (O,D) tuple as key, flow values as lists\n",
        "\n",
        "# Import Origin and Destination shapefiles using core.shapefile\n",
        "StationPolygon1 = core.shapefile.Reader(\"input/Hex37_O.shp\")\n",
        "StationPolygon2 = core.shapefile.Reader(\"input/Hex37_D.shp\")\n",
        "\n",
        "# Extract polygon shapes\n",
        "shapes1 = StationPolygon1.shapes()\n",
        "shapes2 = StationPolygon2.shapes()\n",
        "\n",
        "# Prepare AREAS input for Queen's and Rook's contiguity\n",
        "AREAS1 = [[shape.points] for shape in shapes1]  # Ensure proper structure for AREAS\n",
        "AREAS2 = [[shape.points] for shape in shapes2]  # Ensure proper structure for AREAS\n",
        "\n",
        "# Execute FlowLISA function\n",
        "outputStr = execFLOWLISA(AREAS1, AREAS2, F_dt1, 1, 120)\n",
        "\"\"\"\n",
        "    Execute FlowLISA to analyze spatial autocorrelation in univariate flow data\n",
        "\n",
        "    Parameters of execFLOWLISA(AREAS1, AREAS2, FlowValue, Spatstat, NeiLvl):\n",
        "    1. AREAS1: Origin areas (list of polygons)\n",
        "    2. AREAS2: Destination areas (list of polygons)\n",
        "    3. FlowValue: Dictionary of (O, D) flow values\n",
        "    4. Spatstat:\n",
        "        1 -> Local Moran's I\n",
        "        2 -> Local Getis-Ord G\n",
        "        3 -> Local Geary's C\n",
        "    5. NeiLvl: Neighborhood level for flow connections\n",
        "        # Level=1: one of OD is the same and the other is neighbor;\n",
        "        # Level=2: both OD are neighbors, so level ==12 means a combination of the two above\n",
        "        # 18 means same D, Os are neighbors\n",
        "        # 19 means same O, Ds are neighbors\n",
        "        # adding 0 means including the situation of flows sharing the same O & D as flow i\n",
        "        # refer to getFlowNeighbors.py for more details\n",
        "    Returns:\n",
        "    - A formatted output string containing results\n",
        "\"\"\"\n",
        "# Save output to text file\n",
        "output_filename = 'result/FlowLISA_I_Fake37xLL_Nei120_0002.txt'\n",
        "with open(output_filename, 'w') as outputFile:\n",
        "    outputFile.write(outputStr)\n",
        "\n",
        "print(f\"Processing complete. Results saved to {output_filename}\")"
      ]
    }
  ],
  "metadata": {
    "colab": {
      "provenance": []
    },
    "language_info": {
      "name": "python"
    },
    "kernelspec": {
      "name": "python3",
      "display_name": "Python 3"
    }
  },
  "nbformat": 4,
  "nbformat_minor": 5
}